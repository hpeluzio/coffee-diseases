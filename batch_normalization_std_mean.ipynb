{
 "cells": [
  {
   "cell_type": "code",
   "execution_count": 4,
   "id": "89504753",
   "metadata": {},
   "outputs": [],
   "source": [
    "import os\n",
    "from torchvision import transforms\n",
    "from torch.utils.data import DataLoader, Dataset\n",
    "from PIL import Image "
   ]
  },
  {
   "cell_type": "markdown",
   "id": "64e985a9",
   "metadata": {},
   "source": [
    "### Batch normalization"
   ]
  },
  {
   "cell_type": "code",
   "execution_count": 5,
   "id": "73abf99d",
   "metadata": {},
   "outputs": [
    {
     "name": "stdout",
     "output_type": "stream",
     "text": [
      "Number of images in train dataset: 6000\n",
      "Number of images in test/validation dataset: 625\n"
     ]
    }
   ],
   "source": [
    "transform_train = transforms.Compose([\n",
    "    transforms.Resize(size=[60, 60]),\n",
    "    transforms.ToTensor(),\n",
    "])\n",
    "\n",
    "transform_test = transforms.Compose([\n",
    "    transforms.Resize(size=[60, 60]),\n",
    "    transforms.ToTensor(),\n",
    "])\n",
    "\n",
    "class CustomDataset(Dataset):\n",
    "    def __init__(self, root, transform=None):\n",
    "        self.root = root\n",
    "        self.transform = transform\n",
    "        self.image_paths = []\n",
    "\n",
    "        classes = os.listdir(self.root)\n",
    "        for class_name in classes:\n",
    "            class_path = os.path.join(self.root, class_name)\n",
    "            if os.path.isdir(class_path):\n",
    "                images = os.listdir(class_path)\n",
    "                for image_name in images:\n",
    "                    image_path = os.path.join(class_path, image_name)\n",
    "                    self.image_paths.append((image_path, int(class_name.split('_')[0])))\n",
    "\n",
    "    def __len__(self):\n",
    "        return len(self.image_paths)\n",
    "\n",
    "    def __getitem__(self, idx):\n",
    "        image_path, label = self.image_paths[idx]\n",
    "        image = Image.open(image_path).convert(\"RGB\")\n",
    "\n",
    "        if self.transform:\n",
    "            image = self.transform(image)\n",
    "\n",
    "        return image, label\n",
    "\n",
    "# Create custom datasets\n",
    "dataset_folder = r'./dataset/'\n",
    "\n",
    "train_folder = os.path.join(dataset_folder, 'swatdcnn/data/Augmented/stage_2/train')\n",
    "test_folder = os.path.join(dataset_folder, 'swatdcnn/data/Augmented/stage_2/validation')\n",
    "\n",
    "train_dataset = CustomDataset(root=train_folder, transform=transform_train)\n",
    "test_dataset = CustomDataset(root=test_folder, transform=transform_test)\n",
    "\n",
    "train_dataset_size = len(train_dataset)\n",
    "test_dataset_size = len(test_dataset)\n",
    "\n",
    "print(f\"Number of images in train dataset: {train_dataset_size}\")\n",
    "print(f\"Number of images in test/validation dataset: {test_dataset_size}\")\n",
    "\n",
    "# Create data loaders\n",
    "trainloader = DataLoader(train_dataset, batch_size=32, shuffle=True)\n",
    "testloader = DataLoader(test_dataset, batch_size=32, shuffle=False)"
   ]
  },
  {
   "cell_type": "code",
   "execution_count": 6,
   "id": "23c5fccc",
   "metadata": {},
   "outputs": [
    {
     "name": "stdout",
     "output_type": "stream",
     "text": [
      "Calculated mean: tensor([0.6410, 0.6595, 0.5589])\n",
      "Calculated std: tensor([0.2477, 0.2294, 0.3135])\n"
     ]
    }
   ],
   "source": [
    "# Initialize variables to accumulate sums and counts for mean and std\n",
    "mean_sum = 0.0\n",
    "std_sum = 0.0\n",
    "total_samples = 0\n",
    "\n",
    "# Iterate through the train dataset to calculate mean and std\n",
    "for batch_images, _ in trainloader:\n",
    "    batch_images = batch_images.view(batch_images.size(0), batch_images.size(1), -1)\n",
    "    mean_sum += batch_images.mean(2).sum(0)\n",
    "    std_sum += batch_images.std(2).sum(0)\n",
    "    total_samples += batch_images.size(0)\n",
    "\n",
    "# Calculate mean and std\n",
    "dataset_mean = mean_sum / total_samples\n",
    "dataset_std = std_sum / total_samples\n",
    "\n",
    "print(\"Calculated mean:\", dataset_mean)\n",
    "print(\"Calculated std:\", dataset_std)"
   ]
  },
  {
   "cell_type": "code",
   "execution_count": null,
   "id": "2c1e46bf",
   "metadata": {},
   "outputs": [],
   "source": []
  },
  {
   "cell_type": "code",
   "execution_count": null,
   "id": "d183eb28",
   "metadata": {},
   "outputs": [],
   "source": []
  },
  {
   "cell_type": "code",
   "execution_count": null,
   "id": "c2fc759c",
   "metadata": {},
   "outputs": [],
   "source": []
  }
 ],
 "metadata": {
  "kernelspec": {
   "display_name": "Python 3 (ipykernel)",
   "language": "python",
   "name": "python3"
  },
  "language_info": {
   "codemirror_mode": {
    "name": "ipython",
    "version": 3
   },
   "file_extension": ".py",
   "mimetype": "text/x-python",
   "name": "python",
   "nbconvert_exporter": "python",
   "pygments_lexer": "ipython3",
   "version": "3.11.4"
  }
 },
 "nbformat": 4,
 "nbformat_minor": 5
}
