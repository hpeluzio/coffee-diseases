{
 "cells": [
  {
   "cell_type": "code",
   "execution_count": 57,
   "id": "682d32ed",
   "metadata": {},
   "outputs": [],
   "source": [
    "import os\n",
    "from PIL import Image\n",
    "\n",
    "# STAGE2\n",
    "# 0_Rust / Ferrugem:\n",
    "image_path1 = os.path.abspath('./dataset/swatdcnn/test/stage-2/test/0_Rust/92.jpg')\n",
    "# 1_Brown_Spots / Mofo Fuliginoso:\n",
    "image_path2 = os.path.abspath('./dataset/swatdcnn/test/stage-2/test/1_Brown_Spots/22.jpg')\n",
    "# 2_Sooty_Molds / Mofo Fuliginoso:\n",
    "image_path3 = os.path.abspath('./dataset/swatdcnn/test/stage-2/test/1_Brown_Spots/IMG_20191018_125640.jpg')\n",
    "\n",
    "prep_transforms = transforms.Compose(\n",
    "    [transforms.Resize((160, 160)),\n",
    "     transforms.ToTensor(),\n",
    "     transforms.Normalize( (0.4914, 0.4822, 0.4465), (0.2470, 0.2435, 0.2616) )\n",
    "     ]\n",
    ")"
   ]
  },
  {
   "cell_type": "code",
   "execution_count": 80,
   "id": "cf3754b1",
   "metadata": {
    "code_folding": []
   },
   "outputs": [],
   "source": [
    "# Open and display the image\n",
    "img = Image.open(image_path)\n",
    "img2 = Image.open(image_path2)\n",
    "img3 = Image.open(image_path3)\n",
    "img4 = Image.open(image_path4)\n",
    "img5 = Image.open(image_path5)\n",
    "img6 = Image.open(image_path6)\n",
    "img7 = Image.open(image_path7)\n",
    "img8 = Image.open(image_path8)\n",
    "img9 = Image.open(image_path9)"
   ]
  },
  {
   "cell_type": "code",
   "execution_count": 87,
   "id": "6f758894",
   "metadata": {},
   "outputs": [],
   "source": [
    "img_tensor = prep_transforms(img)\n",
    "img_tensor2 = prep_transforms(img2)\n",
    "img_tensor3 = prep_transforms(img3)\n",
    "img_tensor4 = prep_transforms(img4)\n",
    "# img_tensor5 = prep_transforms(img5)\n",
    "img_tensor6 = prep_transforms(img6)\n",
    "# img_tensor7 = prep_transforms(img7)\n",
    "img_tensor8 = prep_transforms(img8)\n",
    "img_tensor9 = prep_transforms(img9)"
   ]
  },
  {
   "cell_type": "code",
   "execution_count": 14,
   "id": "4f7c8839",
   "metadata": {},
   "outputs": [],
   "source": [
    "data = torch.load(\"./checkpoint/ViT-4-ckpt.t7\")"
   ]
  },
  {
   "cell_type": "code",
   "execution_count": 23,
   "id": "aff78864",
   "metadata": {
    "code_folding": [
     0
    ]
   },
   "outputs": [],
   "source": [
    "# https://github.com/lucidrains/vit-pytorch/blob/main/vit_pytorch/vit.py\n",
    "\n",
    "import torch\n",
    "from torch import nn\n",
    "\n",
    "from einops import rearrange, repeat\n",
    "from einops.layers.torch import Rearrange\n",
    "\n",
    "# helpers\n",
    "\n",
    "def pair(t):\n",
    "    return t if isinstance(t, tuple) else (t, t)\n",
    "\n",
    "# classes\n",
    "\n",
    "class PreNorm(nn.Module):\n",
    "    def __init__(self, dim, fn):\n",
    "        super().__init__()\n",
    "        self.norm = nn.LayerNorm(dim)\n",
    "        self.fn = fn\n",
    "    def forward(self, x, **kwargs):\n",
    "        return self.fn(self.norm(x), **kwargs)\n",
    "\n",
    "class FeedForward(nn.Module):\n",
    "    def __init__(self, dim, hidden_dim, dropout = 0.):\n",
    "        super().__init__()\n",
    "        self.net = nn.Sequential(\n",
    "            nn.Linear(dim, hidden_dim),\n",
    "            nn.GELU(),\n",
    "            nn.Dropout(dropout),\n",
    "            nn.Linear(hidden_dim, dim),\n",
    "            nn.Dropout(dropout)\n",
    "        )\n",
    "    def forward(self, x):\n",
    "        return self.net(x)\n",
    "\n",
    "class Attention(nn.Module):\n",
    "    def __init__(self, dim, heads = 8, dim_head = 64, dropout = 0.):\n",
    "        super().__init__()\n",
    "        inner_dim = dim_head *  heads\n",
    "        project_out = not (heads == 1 and dim_head == dim)\n",
    "\n",
    "        self.heads = heads\n",
    "        self.scale = dim_head ** -0.5\n",
    "\n",
    "        self.attend = nn.Softmax(dim = -1)\n",
    "        self.to_qkv = nn.Linear(dim, inner_dim * 3, bias = False)\n",
    "\n",
    "        self.to_out = nn.Sequential(\n",
    "            nn.Linear(inner_dim, dim),\n",
    "            nn.Dropout(dropout)\n",
    "        ) if project_out else nn.Identity()\n",
    "\n",
    "    def forward(self, x):\n",
    "        qkv = self.to_qkv(x).chunk(3, dim = -1)\n",
    "        q, k, v = map(lambda t: rearrange(t, 'b n (h d) -> b h n d', h = self.heads), qkv)\n",
    "\n",
    "        dots = torch.matmul(q, k.transpose(-1, -2)) * self.scale\n",
    "\n",
    "        attn = self.attend(dots)\n",
    "\n",
    "        out = torch.matmul(attn, v)\n",
    "        out = rearrange(out, 'b h n d -> b n (h d)')\n",
    "        return self.to_out(out)\n",
    "\n",
    "class Transformer(nn.Module):\n",
    "    def __init__(self, dim, depth, heads, dim_head, mlp_dim, dropout = 0.):\n",
    "        super().__init__()\n",
    "        self.layers = nn.ModuleList([])\n",
    "        for _ in range(depth):\n",
    "            self.layers.append(nn.ModuleList([\n",
    "                PreNorm(dim, Attention(dim, heads = heads, dim_head = dim_head, dropout = dropout)),\n",
    "                PreNorm(dim, FeedForward(dim, mlp_dim, dropout = dropout))\n",
    "            ]))\n",
    "    def forward(self, x):\n",
    "        for attn, ff in self.layers:\n",
    "            x = attn(x) + x\n",
    "            x = ff(x) + x\n",
    "        return x\n",
    "\n",
    "class ViT(nn.Module):\n",
    "    def __init__(self, *, image_size, patch_size, num_classes, dim, depth, heads, mlp_dim, pool = 'cls', channels = 3, dim_head = 64, dropout = 0., emb_dropout = 0.):\n",
    "        super().__init__()\n",
    "        image_height, image_width = pair(image_size)\n",
    "        patch_height, patch_width = pair(patch_size)\n",
    "\n",
    "        assert image_height % patch_height == 0 and image_width % patch_width == 0, 'Image dimensions must be divisible by the patch size.'\n",
    "\n",
    "        num_patches = (image_height // patch_height) * (image_width // patch_width)\n",
    "        patch_dim = channels * patch_height * patch_width\n",
    "        assert pool in {'cls', 'mean'}, 'pool type must be either cls (cls token) or mean (mean pooling)'\n",
    "\n",
    "        self.to_patch_embedding = nn.Sequential(\n",
    "            Rearrange('b c (h p1) (w p2) -> b (h w) (p1 p2 c)', p1 = patch_height, p2 = patch_width),\n",
    "            nn.Linear(patch_dim, dim),\n",
    "        )\n",
    "\n",
    "        self.pos_embedding = nn.Parameter(torch.randn(1, num_patches + 1, dim))\n",
    "        self.cls_token = nn.Parameter(torch.randn(1, 1, dim))\n",
    "        self.dropout = nn.Dropout(emb_dropout)\n",
    "\n",
    "        self.transformer = Transformer(dim, depth, heads, dim_head, mlp_dim, dropout)\n",
    "\n",
    "        self.pool = pool\n",
    "        self.to_latent = nn.Identity()\n",
    "\n",
    "        self.mlp_head = nn.Sequential(\n",
    "            nn.LayerNorm(dim),\n",
    "            nn.Linear(dim, num_classes)\n",
    "        )\n",
    "\n",
    "    def forward(self, img):\n",
    "        x = self.to_patch_embedding(img)\n",
    "        b, n, _ = x.shape\n",
    "\n",
    "        cls_tokens = repeat(self.cls_token, '() n d -> b n d', b = b)\n",
    "        x = torch.cat((cls_tokens, x), dim=1)\n",
    "        x += self.pos_embedding[:, :(n + 1)]\n",
    "        x = self.dropout(x)\n",
    "\n",
    "        x = self.transformer(x)\n",
    "\n",
    "        x = x.mean(dim = 1) if self.pool == 'mean' else x[:, 0]\n",
    "\n",
    "        x = self.to_latent(x)\n",
    "        return self.mlp_head(x)\n"
   ]
  },
  {
   "cell_type": "code",
   "execution_count": 41,
   "id": "02edcd1e",
   "metadata": {},
   "outputs": [
    {
     "data": {
      "text/plain": [
       "<All keys matched successfully>"
      ]
     },
     "execution_count": 41,
     "metadata": {},
     "output_type": "execute_result"
    }
   ],
   "source": [
    "net = ViT(\n",
    "    image_size = 32,\n",
    "    patch_size = 4,\n",
    "    num_classes = 10,\n",
    "    dim = 512,\n",
    "    depth = 6,\n",
    "    heads = 8,\n",
    "    mlp_dim = 512,\n",
    "    dropout = 0.1,\n",
    "    emb_dropout = 0.1)\n",
    "\n",
    "\n",
    "\n",
    "data = torch.load('./checkpoint/ViT-4-ckpt.t7')\n",
    "# net = data['model']\n",
    "net.load_state_dict(data['model'])\n"
   ]
  },
  {
   "cell_type": "code",
   "execution_count": 71,
   "id": "731c12c4",
   "metadata": {},
   "outputs": [
    {
     "name": "stdout",
     "output_type": "stream",
     "text": [
      "device: cuda:0\n",
      "airplane score: 0.00\n",
      "automobile score: 0.00\n",
      "bird score: 100.00\n",
      "cat score: 0.00\n",
      "deer score: 0.00\n",
      "dog score: 0.00\n",
      "frog score: 0.00\n",
      "horse score: 0.00\n",
      "ship score: 0.00\n",
      "truck score: 0.00\n"
     ]
    }
   ],
   "source": [
    "device = torch.device(\"cuda:0\" if torch.cuda.is_available() else \"cpu\")\n",
    "print('device:', device)\n",
    "batch = img_tensor.unsqueeze(0).to(\"cpu\")\n",
    "net.eval()\n",
    "output = net(batch)\n",
    "output\n",
    "\n",
    "CATEGORIES = ['airplane','automobile','bird','cat','deer',\n",
    "               'dog','frog','horse','ship','truck']\n",
    "logits = torch.nn.functional.softmax(output, dim=1) * 100\n",
    "prob_dict = {}\n",
    "for i, classname in enumerate(CATEGORIES):\n",
    "  prob = logits[0][i].item()\n",
    "  print(f\"{classname} score: {prob:.2f}\")\n",
    "  prob_dict[classname] = [prob]"
   ]
  },
  {
   "cell_type": "code",
   "execution_count": 72,
   "id": "a10430ea",
   "metadata": {},
   "outputs": [
    {
     "name": "stdout",
     "output_type": "stream",
     "text": [
      "device: cuda:0\n",
      "airplane score: 50.51\n",
      "automobile score: 0.00\n",
      "bird score: 46.73\n",
      "cat score: 0.00\n",
      "deer score: 0.00\n",
      "dog score: 0.00\n",
      "frog score: 0.73\n",
      "horse score: 0.00\n",
      "ship score: 0.00\n",
      "truck score: 2.03\n"
     ]
    }
   ],
   "source": [
    "device = torch.device(\"cuda:0\" if torch.cuda.is_available() else \"cpu\")\n",
    "print('device:', device)\n",
    "batch = img_tensor2.unsqueeze(0).to(\"cpu\")\n",
    "net.eval()\n",
    "output = net(batch)\n",
    "output\n",
    "\n",
    "CATEGORIES = ['airplane','automobile','bird','cat','deer',\n",
    "               'dog','frog','horse','ship','truck']\n",
    "logits = torch.nn.functional.softmax(output, dim=1) * 100\n",
    "prob_dict = {}\n",
    "for i, classname in enumerate(CATEGORIES):\n",
    "  prob = logits[0][i].item()\n",
    "  print(f\"{classname} score: {prob:.2f}\")\n",
    "  prob_dict[classname] = [prob]"
   ]
  },
  {
   "cell_type": "code",
   "execution_count": 73,
   "id": "0db5b336",
   "metadata": {},
   "outputs": [
    {
     "name": "stdout",
     "output_type": "stream",
     "text": [
      "device: cuda:0\n",
      "airplane score: 0.00\n",
      "automobile score: 100.00\n",
      "bird score: 0.00\n",
      "cat score: 0.00\n",
      "deer score: 0.00\n",
      "dog score: 0.00\n",
      "frog score: 0.00\n",
      "horse score: 0.00\n",
      "ship score: 0.00\n",
      "truck score: 0.00\n"
     ]
    }
   ],
   "source": [
    "device = torch.device(\"cuda:0\" if torch.cuda.is_available() else \"cpu\")\n",
    "print('device:', device)\n",
    "batch = img_tensor3.unsqueeze(0).to(\"cpu\")\n",
    "net.eval()\n",
    "output = net(batch)\n",
    "output\n",
    "\n",
    "CATEGORIES = ['airplane','automobile','bird','cat','deer',\n",
    "               'dog','frog','horse','ship','truck']\n",
    "logits = torch.nn.functional.softmax(output, dim=1) * 100\n",
    "prob_dict = {}\n",
    "for i, classname in enumerate(CATEGORIES):\n",
    "  prob = logits[0][i].item()\n",
    "  print(f\"{classname} score: {prob:.2f}\")\n",
    "  prob_dict[classname] = [prob]"
   ]
  },
  {
   "cell_type": "code",
   "execution_count": 74,
   "id": "c9eb104b",
   "metadata": {},
   "outputs": [
    {
     "name": "stdout",
     "output_type": "stream",
     "text": [
      "device: cuda:0\n",
      "airplane score: 94.91\n",
      "automobile score: 5.06\n",
      "bird score: 0.01\n",
      "cat score: 0.00\n",
      "deer score: 0.00\n",
      "dog score: 0.00\n",
      "frog score: 0.00\n",
      "horse score: 0.00\n",
      "ship score: 0.02\n",
      "truck score: 0.00\n"
     ]
    }
   ],
   "source": [
    "device = torch.device(\"cuda:0\" if torch.cuda.is_available() else \"cpu\")\n",
    "print('device:', device)\n",
    "batch = img_tensor4.unsqueeze(0).to(\"cpu\")\n",
    "net.eval()\n",
    "output = net(batch)\n",
    "output\n",
    "\n",
    "CATEGORIES = ['airplane','automobile','bird','cat','deer',\n",
    "               'dog','frog','horse','ship','truck']\n",
    "logits = torch.nn.functional.softmax(output, dim=1) * 100\n",
    "prob_dict = {}\n",
    "for i, classname in enumerate(CATEGORIES):\n",
    "  prob = logits[0][i].item()\n",
    "  print(f\"{classname} score: {prob:.2f}\")\n",
    "  prob_dict[classname] = [prob]"
   ]
  },
  {
   "cell_type": "code",
   "execution_count": 86,
   "id": "b54ca193",
   "metadata": {},
   "outputs": [
    {
     "name": "stdout",
     "output_type": "stream",
     "text": [
      "device: cuda:0\n",
      "airplane score: 0.00\n",
      "automobile score: 0.00\n",
      "bird score: 0.00\n",
      "cat score: 0.00\n",
      "deer score: 0.00\n",
      "dog score: 0.00\n",
      "frog score: 100.00\n",
      "horse score: 0.00\n",
      "ship score: 0.00\n",
      "truck score: 0.00\n"
     ]
    }
   ],
   "source": [
    "device = torch.device(\"cuda:0\" if torch.cuda.is_available() else \"cpu\")\n",
    "print('device:', device)\n",
    "batch = img_tensor9.unsqueeze(0).to(\"cpu\")\n",
    "net.eval()\n",
    "output = net(batch)\n",
    "output\n",
    "\n",
    "CATEGORIES = ['airplane','automobile','bird','cat','deer',\n",
    "               'dog','frog','horse','ship','truck']\n",
    "logits = torch.nn.functional.softmax(output, dim=1) * 100\n",
    "prob_dict = {}\n",
    "for i, classname in enumerate(CATEGORIES):\n",
    "  prob = logits[0][i].item()\n",
    "  print(f\"{classname} score: {prob:.2f}\")\n",
    "  prob_dict[classname] = [prob]"
   ]
  },
  {
   "cell_type": "code",
   "execution_count": 88,
   "id": "93d15c51",
   "metadata": {},
   "outputs": [
    {
     "name": "stdout",
     "output_type": "stream",
     "text": [
      "device: cuda:0\n",
      "airplane score: 0.00\n",
      "automobile score: 0.00\n",
      "bird score: 2.66\n",
      "cat score: 40.63\n",
      "deer score: 0.02\n",
      "dog score: 30.35\n",
      "frog score: 0.02\n",
      "horse score: 26.32\n",
      "ship score: 0.00\n",
      "truck score: 0.01\n"
     ]
    }
   ],
   "source": [
    "device = torch.device(\"cuda:0\" if torch.cuda.is_available() else \"cpu\")\n",
    "print('device:', device)\n",
    "batch = img_tensor6.unsqueeze(0).to(\"cpu\")\n",
    "net.eval()\n",
    "output = net(batch)\n",
    "output\n",
    "\n",
    "CATEGORIES = ['airplane','automobile','bird','cat','deer',\n",
    "               'dog','frog','horse','ship','truck']\n",
    "logits = torch.nn.functional.softmax(output, dim=1) * 100\n",
    "prob_dict = {}\n",
    "for i, classname in enumerate(CATEGORIES):\n",
    "  prob = logits[0][i].item()\n",
    "  print(f\"{classname} score: {prob:.2f}\")\n",
    "  prob_dict[classname] = [prob]"
   ]
  },
  {
   "cell_type": "code",
   "execution_count": null,
   "id": "74e7060e",
   "metadata": {},
   "outputs": [],
   "source": []
  }
 ],
 "metadata": {
  "kernelspec": {
   "display_name": "Python 3 (ipykernel)",
   "language": "python",
   "name": "python3"
  },
  "language_info": {
   "codemirror_mode": {
    "name": "ipython",
    "version": 3
   },
   "file_extension": ".py",
   "mimetype": "text/x-python",
   "name": "python",
   "nbconvert_exporter": "python",
   "pygments_lexer": "ipython3",
   "version": "3.11.4"
  }
 },
 "nbformat": 4,
 "nbformat_minor": 5
}
