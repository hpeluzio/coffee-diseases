{
 "cells": [
  {
   "cell_type": "code",
   "execution_count": 37,
   "id": "31ff56e5",
   "metadata": {},
   "outputs": [],
   "source": [
    "import torch\n",
    "from torchvision import models\n",
    "import os"
   ]
  },
  {
   "cell_type": "markdown",
   "id": "41738b93",
   "metadata": {},
   "source": [
    "### Inspecting the checkpoint"
   ]
  },
  {
   "cell_type": "code",
   "execution_count": 38,
   "id": "3d499eb1",
   "metadata": {},
   "outputs": [
    {
     "name": "stdout",
     "output_type": "stream",
     "text": [
      "dict_keys(['model', 'optimizer', 'scaler', 'acc', 'epoch'])\n",
      "81.76\n",
      "9\n"
     ]
    }
   ],
   "source": [
    "checkpoint = torch.load('./checkpoint/coffee-diseases-stage2-res50-4-ckpt-81.76acc.t7', map_location='cpu')\n",
    "\n",
    "keys = checkpoint.keys()\n",
    "print(keys)\n",
    "\n",
    "print(checkpoint['acc'])\n",
    "print(checkpoint['epoch'])\n",
    "# print(checkpoint['scaler'])"
   ]
  },
  {
   "cell_type": "markdown",
   "id": "2177aef1",
   "metadata": {},
   "source": [
    "### Loading the net"
   ]
  },
  {
   "cell_type": "code",
   "execution_count": 39,
   "id": "5b14a1b1",
   "metadata": {
    "code_folding": []
   },
   "outputs": [],
   "source": [
    "# net = models.resnet50(weights='DEFAULT')\n",
    "# num_features = net.fc.in_features\n",
    "# net.fc = torch.nn.Sequential(\n",
    "#     torch.nn.Linear(num_features, 256),\n",
    "#     torch.nn.ReLU(),\n",
    "#     torch.nn.Linear(256, 4),\n",
    "#     torch.nn.Softmax(dim=1)\n",
    "# )"
   ]
  },
  {
   "cell_type": "code",
   "execution_count": 49,
   "id": "4966b3e3",
   "metadata": {
    "code_folding": [
     0
    ]
   },
   "outputs": [],
   "source": [
    "# ResNet50()\n",
    "# -*- coding: utf-8 -*-\n",
    "\n",
    "'''ResNet in PyTorch.\n",
    "For Pre-activation ResNet, see 'preact_resnet.py'.\n",
    "Reference:\n",
    "[1] Kaiming He, Xiangyu Zhang, Shaoqing Ren, Jian Sun\n",
    "    Deep Residual Learning for Image Recognition. arXiv:1512.03385\n",
    "'''\n",
    "import torch\n",
    "import torch.nn as nn\n",
    "import torch.nn.functional as F\n",
    "\n",
    "\n",
    "class BasicBlock(nn.Module):\n",
    "    expansion = 1\n",
    "\n",
    "    def __init__(self, in_planes, planes, stride=1):\n",
    "        super(BasicBlock, self).__init__()\n",
    "        self.conv1 = nn.Conv2d(in_planes, planes, kernel_size=3, stride=stride, padding=1, bias=False)\n",
    "        self.bn1 = nn.BatchNorm2d(planes)\n",
    "        self.conv2 = nn.Conv2d(planes, planes, kernel_size=3, stride=1, padding=1, bias=False)\n",
    "        self.bn2 = nn.BatchNorm2d(planes)\n",
    "\n",
    "        self.shortcut = nn.Sequential()\n",
    "        if stride != 1 or in_planes != self.expansion*planes:\n",
    "            self.shortcut = nn.Sequential(\n",
    "                nn.Conv2d(in_planes, self.expansion*planes, kernel_size=1, stride=stride, bias=False),\n",
    "                nn.BatchNorm2d(self.expansion*planes)\n",
    "            )\n",
    "\n",
    "    def forward(self, x):\n",
    "        out = F.relu(self.bn1(self.conv1(x)))\n",
    "        out = self.bn2(self.conv2(out))\n",
    "        out += self.shortcut(x)\n",
    "        out = F.relu(out)\n",
    "        return out\n",
    "\n",
    "\n",
    "class Bottleneck(nn.Module):\n",
    "    expansion = 4\n",
    "\n",
    "    def __init__(self, in_planes, planes, stride=1):\n",
    "        super(Bottleneck, self).__init__()\n",
    "        self.conv1 = nn.Conv2d(in_planes, planes, kernel_size=1, bias=False)\n",
    "        self.bn1 = nn.BatchNorm2d(planes)\n",
    "        self.conv2 = nn.Conv2d(planes, planes, kernel_size=3, stride=stride, padding=1, bias=False)\n",
    "        self.bn2 = nn.BatchNorm2d(planes)\n",
    "        self.conv3 = nn.Conv2d(planes, self.expansion*planes, kernel_size=1, bias=False)\n",
    "        self.bn3 = nn.BatchNorm2d(self.expansion*planes)\n",
    "\n",
    "        self.shortcut = nn.Sequential()\n",
    "        if stride != 1 or in_planes != self.expansion*planes:\n",
    "            self.shortcut = nn.Sequential(\n",
    "                nn.Conv2d(in_planes, self.expansion*planes, kernel_size=1, stride=stride, bias=False),\n",
    "                nn.BatchNorm2d(self.expansion*planes)\n",
    "            )\n",
    "\n",
    "    def forward(self, x):\n",
    "        out = F.relu(self.bn1(self.conv1(x)))\n",
    "        out = F.relu(self.bn2(self.conv2(out)))\n",
    "        out = self.bn3(self.conv3(out))\n",
    "        out += self.shortcut(x)\n",
    "        out = F.relu(out)\n",
    "        return out\n",
    "\n",
    "\n",
    "class ResNet(nn.Module):\n",
    "    def __init__(self, block, num_blocks, num_classes=4):\n",
    "        super(ResNet, self).__init__()\n",
    "        self.in_planes = 64\n",
    "\n",
    "        # self.conv1 = nn.Conv2d(3, 64, kernel_size=3, stride=1, padding=1, bias=False)\n",
    "        self.conv1 = nn.Conv2d(3, 64, kernel_size=7, stride=2, padding=3, bias=False)\n",
    "        self.bn1 = nn.BatchNorm2d(64)\n",
    "        self.layer1 = self._make_layer(block, 64, num_blocks[0], stride=1)\n",
    "        self.layer2 = self._make_layer(block, 128, num_blocks[1], stride=2)\n",
    "        self.layer3 = self._make_layer(block, 256, num_blocks[2], stride=2)\n",
    "        self.layer4 = self._make_layer(block, 512, num_blocks[3], stride=2)\n",
    "        self.linear = nn.Linear(512*block.expansion, num_classes)\n",
    "\n",
    "    def _make_layer(self, block, planes, num_blocks, stride):\n",
    "        strides = [stride] + [1]*(num_blocks-1)\n",
    "        layers = []\n",
    "        for stride in strides:\n",
    "            layers.append(block(self.in_planes, planes, stride))\n",
    "            self.in_planes = planes * block.expansion\n",
    "        return nn.Sequential(*layers)\n",
    "\n",
    "    def forward(self, x):\n",
    "        out = F.relu(self.bn1(self.conv1(x)))\n",
    "        out = self.layer1(out)\n",
    "        out = self.layer2(out)\n",
    "        out = self.layer3(out)\n",
    "        out = self.layer4(out)\n",
    "        out = F.avg_pool2d(out, 4)\n",
    "        out = out.view(out.size(0), -1)\n",
    "        out = self.linear(out)\n",
    "        return out\n",
    "\n",
    "\n",
    "def ResNet18(num_classes=4):\n",
    "    return ResNet(BasicBlock, [2,2,2,2], num_classes=num_classes)\n",
    "\n",
    "def ResNet34(num_classes=4):\n",
    "    return ResNet(BasicBlock, [3,4,6,3], num_classes=num_classes)\n",
    "\n",
    "def ResNet50(num_classes=4):\n",
    "    return ResNet(Bottleneck, [3,4,6,3], num_classes=num_classes)\n",
    "\n",
    "def ResNet101(num_classes=4):\n",
    "    return ResNet(Bottleneck, [3,4,23,3], num_classes=num_classes)\n",
    "\n",
    "def ResNet152(num_classes=4):\n",
    "    return ResNet(Bottleneck, [3,8,36,3], num_classes=num_classes)\n",
    "\n",
    "\n",
    "def test():\n",
    "    net = ResNet18()\n",
    "    y = net(torch.randn(1,3,32,32))\n",
    "    print(y.size())\n",
    "\n",
    "# test()"
   ]
  },
  {
   "cell_type": "code",
   "execution_count": 50,
   "id": "d076b809",
   "metadata": {},
   "outputs": [],
   "source": [
    "net = ResNet50(num_classes=3)"
   ]
  },
  {
   "cell_type": "code",
   "execution_count": 51,
   "id": "756bacfa",
   "metadata": {},
   "outputs": [],
   "source": [
    "# Load the checkpoint\n",
    "# checkpoint = torch.load('./checkpoint/coffee-diseases-res50-4-ckpt.t7', map_location='cpu')\n",
    "\n",
    "# print(checkpoint['model'].items())"
   ]
  },
  {
   "cell_type": "code",
   "execution_count": 52,
   "id": "7c1f0f1b",
   "metadata": {},
   "outputs": [
    {
     "data": {
      "text/plain": [
       "<All keys matched successfully>"
      ]
     },
     "execution_count": 52,
     "metadata": {},
     "output_type": "execute_result"
    }
   ],
   "source": [
    "# Load the checkpoint\n",
    "#checkpoint = torch.load('./checkpoint/XXXXX.t7', map_location='cpu')\n",
    "\n",
    "# Remove the \"module\" prefix from the keys\n",
    "new_state_dict = {k.replace('module.', ''): v for k, v in checkpoint['model'].items()}\n",
    "\n",
    "# Load the modified state_dict into the model\n",
    "net.load_state_dict(new_state_dict)"
   ]
  },
  {
   "cell_type": "code",
   "execution_count": 53,
   "id": "fd2772eb",
   "metadata": {},
   "outputs": [],
   "source": [
    "# print('==> loading from checkpoint..')\n",
    "# assert os.path.isdir('checkpoint'), 'Error: no checkpoint directory found!'\n",
    "# checkpoint = torch.load('./checkpoint/res50-4-ckpt.t7')\n",
    "\n",
    "# keys = checkpoint.keys()\n",
    "# print(keys)\n",
    "\n",
    "# net.load_state_dict(checkpoint['model'])\n",
    "# best_acc = checkpoint['acc']\n",
    "# start_epoch = checkpoint['epoch']\n",
    "\n",
    "# net = ResNet50()\n",
    "# checkpoint = torch.load('./checkpoint/coffee-diseases-res50-4-ckpt.t7')\n",
    "# keys = checkpoint.keys()\n",
    "# print(keys)\n",
    "# net.load_state_dict(checkpoint['model'])\n",
    "\n",
    "\n",
    "# net = checkpoint['net']\n",
    "# print(net)\n",
    "# net.load_state_dict(checkpoint['net'])"
   ]
  },
  {
   "cell_type": "markdown",
   "id": "34fa8c15",
   "metadata": {},
   "source": [
    "### Saving the .pth model"
   ]
  },
  {
   "cell_type": "code",
   "execution_count": 54,
   "id": "71f496ee",
   "metadata": {},
   "outputs": [],
   "source": [
    "torch.save(net.state_dict(), './checkpoint/resnet50.pth')"
   ]
  },
  {
   "cell_type": "markdown",
   "id": "fa7b9d08",
   "metadata": {},
   "source": [
    "### Loading the model"
   ]
  },
  {
   "cell_type": "code",
   "execution_count": 55,
   "id": "e5bdfb5a",
   "metadata": {},
   "outputs": [],
   "source": [
    "pthPath = f'./checkpoint/resnet50.pth'\n",
    "onnxPath = f'./checkpoint/resnet50-81.76acc.onnx'\n",
    "\n",
    "# model =  torch.load(pthPath)\n",
    "# model_dict = model.state_dict()\n",
    "# net.load_state_dict(model_dict)"
   ]
  },
  {
   "cell_type": "markdown",
   "id": "89bba62c",
   "metadata": {},
   "source": [
    "### Saving the onnx"
   ]
  },
  {
   "cell_type": "code",
   "execution_count": 56,
   "id": "8afe544c",
   "metadata": {},
   "outputs": [
    {
     "name": "stdout",
     "output_type": "stream",
     "text": [
      "Requirement already satisfied: onnx in /home/henrique/anaconda3/envs/deep_learning/lib/python3.11/site-packages (1.14.0)\r\n",
      "Requirement already satisfied: numpy in /home/henrique/anaconda3/envs/deep_learning/lib/python3.11/site-packages (from onnx) (1.25.0)\r\n",
      "Requirement already satisfied: protobuf>=3.20.2 in /home/henrique/anaconda3/envs/deep_learning/lib/python3.11/site-packages (from onnx) (3.20.3)\r\n",
      "Requirement already satisfied: typing-extensions>=3.6.2.1 in /home/henrique/anaconda3/envs/deep_learning/lib/python3.11/site-packages (from onnx) (4.6.3)\r\n"
     ]
    }
   ],
   "source": [
    "!pip install onnx"
   ]
  },
  {
   "cell_type": "code",
   "execution_count": 57,
   "id": "f2c2e68a",
   "metadata": {},
   "outputs": [
    {
     "name": "stdout",
     "output_type": "stream",
     "text": [
      "================ Diagnostic Run torch.onnx.export version 2.0.1 ================\n",
      "verbose: False, log level: Level.ERROR\n",
      "======================= 0 NONE 0 NOTE 0 WARNING 0 ERROR ========================\n",
      "\n"
     ]
    }
   ],
   "source": [
    "import onnx\n",
    "from torch.autograd import Variable\n",
    "\n",
    "# dummy_input = torch.randn(1, 3, 32, 32)\n",
    "dummy_input = torch.randn(1, 3, 60, 60)\n",
    "\n",
    "# Export the model\n",
    "torch.onnx.export(net,                 # model being run\n",
    "                  dummy_input,                         # model input (or a tuple for multiple inputs)\n",
    "                  onnxPath,   # where to save the model (can be a file or file-like object)\n",
    "                  export_params=True,        # store the trained parameter weights inside the model file\n",
    "                  opset_version=10,          # the ONNX version to export the model to\n",
    "                  do_constant_folding=True,  # whether to execute constant folding for optimization\n",
    "                  input_names = ['input'],   # the model's input names\n",
    "                  output_names = ['output'], # the model's output names\n",
    "                  dynamic_axes={'input' : {0 : 'batch_size'},    # variable length axes\n",
    "                                'output' : {0 : 'batch_size'}})"
   ]
  },
  {
   "cell_type": "code",
   "execution_count": null,
   "id": "23c5fccc",
   "metadata": {},
   "outputs": [],
   "source": []
  },
  {
   "cell_type": "code",
   "execution_count": null,
   "id": "2c1e46bf",
   "metadata": {},
   "outputs": [],
   "source": []
  }
 ],
 "metadata": {
  "kernelspec": {
   "display_name": "Python 3 (ipykernel)",
   "language": "python",
   "name": "python3"
  },
  "language_info": {
   "codemirror_mode": {
    "name": "ipython",
    "version": 3
   },
   "file_extension": ".py",
   "mimetype": "text/x-python",
   "name": "python",
   "nbconvert_exporter": "python",
   "pygments_lexer": "ipython3",
   "version": "3.11.4"
  }
 },
 "nbformat": 4,
 "nbformat_minor": 5
}
